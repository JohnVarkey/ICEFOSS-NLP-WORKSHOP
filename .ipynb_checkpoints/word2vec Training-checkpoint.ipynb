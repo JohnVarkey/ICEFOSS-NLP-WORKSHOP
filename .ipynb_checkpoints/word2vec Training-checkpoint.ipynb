{
 "cells": [
  {
   "cell_type": "code",
   "execution_count": 1,
   "metadata": {},
   "outputs": [],
   "source": [
    "from gensim.models import Word2Vec"
   ]
  },
  {
   "cell_type": "code",
   "execution_count": 2,
   "metadata": {},
   "outputs": [],
   "source": [
    "# define training data\n",
    "sentences = [['this', 'is', 'the', 'first', 'sentence', 'for', 'word2vec'],\n",
    "\t\t\t['this', 'is', 'the', 'second', 'sentence'],\n",
    "\t\t\t['yet', 'another', 'sentence'],\n",
    "\t\t\t['one', 'more', 'sentence'],\n",
    "\t\t\t['and', 'the', 'final', 'sentence']]"
   ]
  },
  {
   "cell_type": "code",
   "execution_count": 3,
   "metadata": {},
   "outputs": [],
   "source": [
    "# train model\n",
    "model = Word2Vec(sentences, min_count=1)"
   ]
  },
  {
   "cell_type": "code",
   "execution_count": 4,
   "metadata": {},
   "outputs": [
    {
     "name": "stdout",
     "output_type": "stream",
     "text": [
      "Word2Vec(vocab=14, size=100, alpha=0.025)\n",
      "['this', 'is', 'the', 'first', 'sentence', 'for', 'word2vec', 'second', 'yet', 'another', 'one', 'more', 'and', 'final']\n"
     ]
    }
   ],
   "source": [
    "# summarize the loaded model\n",
    "print(model)\n",
    "# summarize vocabulary\n",
    "words = list(model.wv.vocab)\n",
    "print(words)"
   ]
  },
  {
   "cell_type": "code",
   "execution_count": 5,
   "metadata": {},
   "outputs": [
    {
     "name": "stdout",
     "output_type": "stream",
     "text": [
      "[ 0.00477404  0.00220661 -0.00036649 -0.00180997  0.00371237 -0.00194156\n",
      " -0.00219926 -0.00437227  0.00228122 -0.00321015 -0.0014219  -0.00091282\n",
      " -0.00408999 -0.00434409 -0.00108312  0.00073658  0.0008853  -0.00365099\n",
      " -0.00232501 -0.00289681 -0.00085716 -0.0009813  -0.00052465 -0.00443605\n",
      "  0.0028651   0.00320795  0.00124355  0.00050386  0.0049796   0.00317913\n",
      " -0.00287983  0.00416252  0.00373815 -0.00410413  0.0031461  -0.00219714\n",
      "  0.00166857  0.00432914 -0.00128998 -0.00203604 -0.00270479 -0.00380028\n",
      "  0.00330335 -0.00327722 -0.00145656 -0.00038747  0.00290908 -0.00454085\n",
      " -0.0038818   0.00031095 -0.00076506 -0.00427251  0.00062365  0.00028307\n",
      " -0.00184123 -0.00154312  0.00049778 -0.00469228 -0.00204793  0.00037326\n",
      "  0.00251677 -0.00080167  0.00498422 -0.00422697 -0.00127675  0.00010363\n",
      " -0.00252941 -0.00124166  0.00487691 -0.00122986  0.00236915 -0.00467582\n",
      " -0.00358611 -0.00145302  0.00258686 -0.00481184  0.00371333  0.00313385\n",
      "  0.00383563 -0.00329229 -0.00142521  0.0027687   0.00285065 -0.00290466\n",
      "  0.00030481 -0.00172067  0.00252896  0.00123232 -0.00051112 -0.00029355\n",
      " -0.00147562  0.00162393 -0.00345505 -0.00084535 -0.00470373  0.00436844\n",
      " -0.00073536  0.00032884 -0.00323087 -0.00459817]\n"
     ]
    },
    {
     "name": "stderr",
     "output_type": "stream",
     "text": [
      "/Users/raj/anaconda3/lib/python3.6/site-packages/ipykernel_launcher.py:2: DeprecationWarning: Call to deprecated `__getitem__` (Method will be removed in 4.0.0, use self.wv.__getitem__() instead).\n",
      "  \n"
     ]
    }
   ],
   "source": [
    "# access vector for one word\n",
    "print(model['sentence'])\n",
    "# save model\n",
    "model.save('model.bin')\n",
    "# load model"
   ]
  },
  {
   "cell_type": "code",
   "execution_count": 6,
   "metadata": {},
   "outputs": [
    {
     "name": "stdout",
     "output_type": "stream",
     "text": [
      "Word2Vec(vocab=14, size=100, alpha=0.025)\n"
     ]
    }
   ],
   "source": [
    "new_model = Word2Vec.load('model.bin')\n",
    "print(new_model)"
   ]
  },
  {
   "cell_type": "code",
   "execution_count": null,
   "metadata": {},
   "outputs": [],
   "source": []
  }
 ],
 "metadata": {
  "kernelspec": {
   "display_name": "Python 3",
   "language": "python",
   "name": "python3"
  },
  "language_info": {
   "codemirror_mode": {
    "name": "ipython",
    "version": 3
   },
   "file_extension": ".py",
   "mimetype": "text/x-python",
   "name": "python",
   "nbconvert_exporter": "python",
   "pygments_lexer": "ipython3",
   "version": "3.6.8"
  }
 },
 "nbformat": 4,
 "nbformat_minor": 2
}

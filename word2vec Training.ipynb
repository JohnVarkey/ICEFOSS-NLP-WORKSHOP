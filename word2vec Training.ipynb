{
 "cells": [
  {
   "cell_type": "code",
   "execution_count": 2,
   "metadata": {},
   "outputs": [],
   "source": [
    "from gensim.models import Word2Vec"
   ]
  },
  {
   "cell_type": "code",
   "execution_count": 3,
   "metadata": {},
   "outputs": [],
   "source": [
    "# define training data\n",
    "sentences = [['this', 'is', 'the', 'first', 'sentence', 'for', 'word2vec'],\n",
    "\t\t\t['this', 'is', 'the', 'second', 'sentence'],\n",
    "\t\t\t['yet', 'another', 'sentence'],\n",
    "\t\t\t['one', 'more', 'sentence'],\n",
    "\t\t\t['and', 'the', 'final', 'sentence']]"
   ]
  },
  {
   "cell_type": "code",
   "execution_count": 4,
   "metadata": {},
   "outputs": [],
   "source": [
    "# train model\n",
    "model = Word2Vec(sentences, min_count=1)"
   ]
  },
  {
   "cell_type": "code",
   "execution_count": 5,
   "metadata": {},
   "outputs": [
    {
     "name": "stdout",
     "output_type": "stream",
     "text": [
      "Word2Vec(vocab=14, size=100, alpha=0.025)\n",
      "['this', 'is', 'the', 'first', 'sentence', 'for', 'word2vec', 'second', 'yet', 'another', 'one', 'more', 'and', 'final']\n"
     ]
    }
   ],
   "source": [
    "# summarize the loaded model\n",
    "print(model)\n",
    "# summarize vocabulary\n",
    "words = list(model.wv.vocab)\n",
    "print(words)"
   ]
  },
  {
   "cell_type": "code",
   "execution_count": 6,
   "metadata": {},
   "outputs": [
    {
     "name": "stdout",
     "output_type": "stream",
     "text": [
      "[ 7.6293049e-04 -1.5017524e-03  4.1360273e-03  1.3351380e-03\n",
      " -2.0763665e-03  2.4426302e-03  4.8484537e-03  3.0155811e-03\n",
      "  1.5436546e-03 -2.8853570e-03 -1.0184666e-04 -1.6923080e-03\n",
      "  3.8330017e-03  2.3924659e-03 -4.9242466e-03 -1.7262929e-03\n",
      " -1.6469756e-03  1.8867337e-03 -3.1854622e-03  2.0065345e-03\n",
      " -2.0544783e-03 -4.8836041e-04 -3.2916733e-03  2.1440887e-03\n",
      " -3.4067098e-03 -2.6680718e-04 -1.5779812e-04 -2.7284946e-03\n",
      " -2.6223045e-03  1.2704130e-03  1.4538683e-03  2.9423446e-03\n",
      "  2.4077799e-03 -3.0905416e-04  1.3685649e-03  3.3744029e-03\n",
      " -4.0273736e-03 -2.4134136e-04 -4.9134390e-03  1.3361142e-03\n",
      "  4.6379282e-03 -3.8071286e-03 -3.6659872e-03  2.7828736e-03\n",
      "  4.5599733e-03  2.8876632e-03  6.4585399e-04  2.8127809e-03\n",
      "  2.7360616e-03  4.6736868e-03 -1.0189823e-03 -2.3238622e-03\n",
      "  2.8222019e-04 -3.2152902e-04 -1.6954576e-03  1.3594290e-03\n",
      " -3.3757037e-03 -8.2272722e-04 -3.2046274e-03 -3.5169404e-03\n",
      " -1.0635013e-03  4.0619322e-03  2.7478687e-03  3.9076800e-03\n",
      "  1.4862337e-03  2.8453122e-03 -4.6955938e-03  1.7143314e-03\n",
      " -3.9776391e-03  4.8270463e-03 -3.9092768e-03 -1.9621539e-03\n",
      "  2.1554390e-03  1.2022230e-04  2.1022141e-05  2.3569446e-04\n",
      " -2.6285853e-03  4.0267673e-03  1.1605673e-03  3.3143708e-03\n",
      " -2.0898192e-03 -3.3097500e-03  1.1626688e-03  4.0168292e-03\n",
      " -1.1858566e-03  3.1043377e-04 -3.8459778e-03 -4.6295500e-03\n",
      "  2.7830992e-03 -4.8119877e-03 -1.2110934e-04  3.6166215e-03\n",
      "  3.8062590e-03 -3.9953077e-03  3.6803503e-03  3.3748038e-03\n",
      " -3.8973729e-03  4.7787922e-03 -3.3673223e-03  6.6470151e-04]\n"
     ]
    },
    {
     "name": "stderr",
     "output_type": "stream",
     "text": [
      "/Users/adam/.virtualenvs/nlp/lib/python3.6/site-packages/ipykernel_launcher.py:2: DeprecationWarning: Call to deprecated `__getitem__` (Method will be removed in 4.0.0, use self.wv.__getitem__() instead).\n",
      "  \n"
     ]
    }
   ],
   "source": [
    "# access vector for one word\n",
    "print(model['sentence'])\n",
    "# save model\n",
    "model.save('model.bin')\n",
    "# load model"
   ]
  },
  {
   "cell_type": "code",
   "execution_count": 7,
   "metadata": {},
   "outputs": [
    {
     "name": "stdout",
     "output_type": "stream",
     "text": [
      "Word2Vec(vocab=14, size=100, alpha=0.025)\n"
     ]
    }
   ],
   "source": [
    "new_model = Word2Vec.load('model.bin')\n",
    "print(new_model)"
   ]
  },
  {
   "cell_type": "code",
   "execution_count": null,
   "metadata": {},
   "outputs": [],
   "source": []
  },
  {
   "cell_type": "code",
   "execution_count": null,
   "metadata": {},
   "outputs": [],
   "source": []
  }
 ],
 "metadata": {
  "kernelspec": {
   "display_name": "Python 3",
   "language": "python",
   "name": "python3"
  },
  "language_info": {
   "codemirror_mode": {
    "name": "ipython",
    "version": 3
   },
   "file_extension": ".py",
   "mimetype": "text/x-python",
   "name": "python",
   "nbconvert_exporter": "python",
   "pygments_lexer": "ipython3",
   "version": "3.6.8"
  }
 },
 "nbformat": 4,
 "nbformat_minor": 2
}
